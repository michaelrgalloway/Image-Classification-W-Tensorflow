{
 "cells": [
  {
   "cell_type": "markdown",
   "metadata": {
    "collapsed": true
   },
   "source": [
    "# Image Classification\n",
    "In this project, you'll classify images from the [CIFAR-10 dataset](https://www.cs.toronto.edu/~kriz/cifar.html).  The dataset consists of airplanes, dogs, cats, and other objects. You'll preprocess the images, then train a convolutional neural network on all the samples. The images need to be normalized and the labels need to be one-hot encoded.  You'll get to apply what you learned and build a convolutional, max pooling, dropout, and fully connected layers.  At the end, you'll get to see your neural network's predictions on the sample images.\n",
    "## Get the Data\n",
    "Run the following cell to download the [CIFAR-10 dataset for python](https://www.cs.toronto.edu/~kriz/cifar-10-python.tar.gz)."
   ]
  },
  {
   "cell_type": "code",
   "execution_count": 1,
   "metadata": {
    "collapsed": false
   },
   "outputs": [
    {
     "name": "stdout",
     "output_type": "stream",
     "text": [
      "All files found!\n"
     ]
    }
   ],
   "source": [
    "\"\"\"\n",
    "DON'T MODIFY ANYTHING IN THIS CELL THAT IS BELOW THIS LINE\n",
    "\"\"\"\n",
    "from urllib.request import urlretrieve\n",
    "from os.path import isfile, isdir\n",
    "from tqdm import tqdm\n",
    "import problem_unittests as tests\n",
    "import tarfile\n",
    "\n",
    "cifar10_dataset_folder_path = 'cifar-10-batches-py'\n",
    "\n",
    "class DLProgress(tqdm):\n",
    "    last_block = 0\n",
    "\n",
    "    def hook(self, block_num=1, block_size=1, total_size=None):\n",
    "        self.total = total_size\n",
    "        self.update((block_num - self.last_block) * block_size)\n",
    "        self.last_block = block_num\n",
    "\n",
    "if not isfile('cifar-10-python.tar.gz'):\n",
    "    with DLProgress(unit='B', unit_scale=True, miniters=1, desc='CIFAR-10 Dataset') as pbar:\n",
    "        urlretrieve(\n",
    "            'https://www.cs.toronto.edu/~kriz/cifar-10-python.tar.gz',\n",
    "            'cifar-10-python.tar.gz',\n",
    "            pbar.hook)\n",
    "\n",
    "if not isdir(cifar10_dataset_folder_path):\n",
    "    with tarfile.open('cifar-10-python.tar.gz') as tar:\n",
    "        tar.extractall()\n",
    "        tar.close()\n",
    "\n",
    "\n",
    "tests.test_folder_path(cifar10_dataset_folder_path)"
   ]
  },
  {
   "cell_type": "markdown",
   "metadata": {},
   "source": [
    "## Explore the Data\n",
    "The dataset is broken into batches to prevent your machine from running out of memory.  The CIFAR-10 dataset consists of 5 batches, named `data_batch_1`, `data_batch_2`, etc.. Each batch contains the labels and images that are one of the following:\n",
    "* airplane\n",
    "* automobile\n",
    "* bird\n",
    "* cat\n",
    "* deer\n",
    "* dog\n",
    "* frog\n",
    "* horse\n",
    "* ship\n",
    "* truck\n",
    "\n",
    "Understanding a dataset is part of making predictions on the data.  Play around with the code cell below by changing the `batch_id` and `sample_id`. The `batch_id` is the id for a batch (1-5). The `sample_id` is the id for a image and label pair in the batch.\n",
    "\n",
    "Ask yourself \"What are all possible labels?\", \"What is the range of values for the image data?\", \"Are the labels in order or random?\".  Answers to questions like these will help you preprocess the data and end up with better predictions."
   ]
  },
  {
   "cell_type": "code",
   "execution_count": 2,
   "metadata": {
    "collapsed": false
   },
   "outputs": [
    {
     "name": "stdout",
     "output_type": "stream",
     "text": [
      "\n",
      "Stats of batch 1:\n",
      "Samples: 10000\n",
      "Label Counts: {0: 1005, 1: 974, 2: 1032, 3: 1016, 4: 999, 5: 937, 6: 1030, 7: 1001, 8: 1025, 9: 981}\n",
      "First 20 Labels: [6, 9, 9, 4, 1, 1, 2, 7, 8, 3, 4, 7, 7, 2, 9, 9, 9, 3, 2, 6]\n",
      "\n",
      "Example of Image 5:\n",
      "Image - Min Value: 0 Max Value: 252\n",
      "Image - Shape: (32, 32, 3)\n",
      "Label - Label Id: 1 Name: automobile\n"
     ]
    },
    {
     "data": {
      "image/png": "[encoded data removed]",
      "text/plain": [
       "<matplotlib.figure.Figure at 0x7fd9d025b908>"
      ]
     },
     "metadata": {
      "image/png": {
       "height": 250,
       "width": 253
      }
     },
     "output_type": "display_data"
    }
   ],
   "source": [
    "%matplotlib inline\n",
    "%config InlineBackend.figure_format = 'retina'\n",
    "\n",
    "import helper\n",
    "import numpy as np\n",
    "\n",
    "# Explore the dataset\n",
    "batch_id = 1\n",
    "sample_id = 5\n",
    "helper.display_stats(cifar10_dataset_folder_path, batch_id, sample_id)"
   ]
  },
  {
   "cell_type": "markdown",
   "metadata": {},
   "source": [
    "## Implement Preprocess Functions\n",
    "### Normalize\n",
    "In the cell below, implement the `normalize` function to take in image data, `x`, and return it as a normalized Numpy array. The values should be in the range of 0 to 1, inclusive.  The return object should be the same shape as `x`."
   ]
  },
  {
   "cell_type": "code",
   "execution_count": 3,
   "metadata": {
    "collapsed": false
   },
   "outputs": [
    {
     "name": "stdout",
     "output_type": "stream",
     "text": [
      "Tests Passed\n"
     ]
    }
   ],
   "source": [
    "def normalize(x):\n",
    "    \"\"\"\n",
    "    Normalize a list of sample image data in the range of 0 to 1\n",
    "    : x: List of image data.  The image shape is (32, 32, 3)\n",
    "    : return: Numpy array of normalize data\n",
    "    \"\"\"\n",
    " \n",
    "    return x/255\n",
    "\n",
    "\n",
    "\"\"\"\n",
    "DON'T MODIFY ANYTHING IN THIS CELL THAT IS BELOW THIS LINE\n",
    "\"\"\"\n",
    "tests.test_normalize(normalize)"
   ]
  },
  {
   "cell_type": "markdown",
   "metadata": {},
   "source": [
    "### One-hot encode\n",
    "Just like the previous code cell, you'll be implementing a function for preprocessing.  This time, you'll implement the `one_hot_encode` function. The input, `x`, are a list of labels.  Implement the function to return the list of labels as One-Hot encoded Numpy array.  The possible values for labels are 0 to 9. The one-hot encoding function should return the same encoding for each value between each call to `one_hot_encode`.  Make sure to save the map of encodings outside the function.\n",
    "\n",
    "Hint: Don't reinvent the wheel."
   ]
  },
  {
   "cell_type": "code",
   "execution_count": 4,
   "metadata": {
    "collapsed": false
   },
   "outputs": [
    {
     "name": "stdout",
     "output_type": "stream",
     "text": [
      "Tests Passed\n"
     ]
    }
   ],
   "source": [
    "from pandas import DataFrame\n",
    "from sklearn.preprocessing import OneHotEncoder\n",
    "def one_hot_encode(x):\n",
    "    \"\"\"\n",
    "    One hot encode a list of sample labels. Return a one-hot encoded vector for each label.\n",
    "    : x: List of sample Labels\n",
    "    : return: Numpy array of one-hot encoded labels\n",
    "    \"\"\"\n",
    "    # TODO: Implement Function\n",
    "    x = np.array(x).reshape (-1,1)\n",
    "    enc = OneHotEncoder(n_values=10)\n",
    "\n",
    "    return enc.fit_transform(x).toarray()\n",
    "    \n",
    "\n",
    "\n",
    "\"\"\"\n",
    "DON'T MODIFY ANYTHING IN THIS CELL THAT IS BELOW THIS LINE\n",
    "\"\"\"\n",
    "tests.test_one_hot_encode(one_hot_encode)"
   ]
  },
  {
   "cell_type": "markdown",
   "metadata": {},
   "source": [
    "### Randomize Data\n",
    "As you saw from exploring the data above, the order of the samples are randomized.  It doesn't hurt to randomize it again, but you don't need to for this dataset."
   ]
  },
  {
   "cell_type": "markdown",
   "metadata": {},
   "source": [
    "## Preprocess all the data and save it\n",
    "Running the code cell below will preprocess all the CIFAR-10 data and save it to file. The code below also uses 10% of the training data for validation."
   ]
  },
  {
   "cell_type": "code",
   "execution_count": 5,
   "metadata": {
    "collapsed": false
   },
   "outputs": [],
   "source": [
    "\"\"\"\n",
    "DON'T MODIFY ANYTHING IN THIS CELL\n",
    "\"\"\"\n",
    "# Preprocess Training, Validation, and Testing Data\n",
    "helper.preprocess_and_save_data(cifar10_dataset_folder_path, normalize, one_hot_encode)"
   ]
  },
  {
   "cell_type": "markdown",
   "metadata": {},
   "source": [
    "# Check Point\n",
    "This is your first checkpoint.  If you ever decide to come back to this notebook or have to restart the notebook, you can start from here.  The preprocessed data has been saved to disk."
   ]
  },
  {
   "cell_type": "code",
   "execution_count": 6,
   "metadata": {
    "collapsed": true
   },
   "outputs": [],
   "source": [
    "\"\"\"\n",
    "DON'T MODIFY ANYTHING IN THIS CELL\n",
    "\"\"\"\n",
    "import pickle\n",
    "import problem_unittests as tests\n",
    "import helper\n",
    "\n",
    "# Load the Preprocessed Validation data\n",
    "valid_features, valid_labels = pickle.load(open('preprocess_validation.p', mode='rb'))"
   ]
  },
  {
   "cell_type": "markdown",
   "metadata": {},
   "source": [
    "## Build the network\n",
    "For the neural network, you'll build each layer into a function.  Most of the code you've seen has been outside of functions. To test your code more thoroughly, we require that you put each layer in a function.  This allows us to give you better feedback and test for simple mistakes using our unittests before you submit your project.\n",
    "\n",
    "If you're finding it hard to dedicate enough time for this course a week, we've provided a small shortcut to this part of the project. In the next couple of problems, you'll have the option to use [TensorFlow Layers](https://www.tensorflow.org/api_docs/python/tf/layers) or [TensorFlow Layers (contrib)](https://www.tensorflow.org/api_guides/python/contrib.layers) to build each layer, except \"Convolutional & Max Pooling\" layer.  TF Layers is similar to Keras's and TFLearn's abstraction to layers, so it's easy to pickup.\n",
    "\n",
    "If you would like to get the most of this course, try to solve all the problems without TF Layers.  Let's begin!\n",
    "### Input\n",
    "The neural network needs to read the image data, one-hot encoded labels, and dropout keep probability. Implement the following functions\n",
    "* Implement `neural_net_image_input`\n",
    " * Return a [TF Placeholder](https://www.tensorflow.org/api_docs/python/tf/placeholder)\n",
    " * Set the shape using `image_shape` with batch size set to `None`.\n",
    " * Name the TensorFlow placeholder \"x\" using the TensorFlow `name` parameter in the [TF Placeholder](https://www.tensorflow.org/api_docs/python/tf/placeholder).\n",
    "* Implement `neural_net_label_input`\n",
    " * Return a [TF Placeholder](https://www.tensorflow.org/api_docs/python/tf/placeholder)\n",
    " * Set the shape using `n_classes` with batch size set to `None`.\n",
    " * Name the TensorFlow placeholder \"y\" using the TensorFlow `name` parameter in the [TF Placeholder](https://www.tensorflow.org/api_docs/python/tf/placeholder).\n",
    "* Implement `neural_net_keep_prob_input`\n",
    " * Return a [TF Placeholder](https://www.tensorflow.org/api_docs/python/tf/placeholder) for dropout keep probability.\n",
    " * Name the TensorFlow placeholder \"keep_prob\" using the TensorFlow `name` parameter in the [TF Placeholder](https://www.tensorflow.org/api_docs/python/tf/placeholder).\n",
    "\n",
    "These names will be used at the end of the project to load your saved model.\n",
    "\n",
    "Note: `None` for shapes in TensorFlow allow for a dynamic size."
   ]
  },
  {
   "cell_type": "code",
   "execution_count": 7,
   "metadata": {
    "collapsed": false
   },
   "outputs": [
    {
     "name": "stdout",
     "output_type": "stream",
     "text": [
      "Image Input Tests Passed.\n",
      "Label Input Tests Passed.\n",
      "Keep Prob Tests Passed.\n"
     ]
    }
   ],
   "source": [
    "import tensorflow as tf\n",
    "\n",
    "def neural_net_image_input(image_shape):\n",
    "    \"\"\"\n",
    "    Return a Tensor for a bach of image input\n",
    "    : image_shape: Shape of the images\n",
    "    : return: Tensor for image input.\n",
    "    \"\"\"\n",
    "    # TODO: Implement Function\n",
    "    return tf.placeholder(tf.float32, shape=[None,image_shape[0],image_shape[1],image_shape[2]], name='x')\n",
    "\n",
    "\n",
    "def neural_net_label_input(n_classes):\n",
    "    \"\"\"\n",
    "    Return a Tensor for a batch of label input\n",
    "    : n_classes: Number of classes\n",
    "    : return: Tensor for label input.\n",
    "    \"\"\"\n",
    "    # TODO: Implement Function\n",
    "    return tf.placeholder(tf.float32, shape=[None, n_classes], name='y')\n",
    "\n",
    "\n",
    "def neural_net_keep_prob_input():\n",
    "    \"\"\"\n",
    "    Return a Tensor for keep probability\n",
    "    : return: Tensor for keep probability.\n",
    "    \"\"\"\n",
    "    # TODO: Implement Function\n",
    "    return tf.placeholder(tf.float32, name='keep_prob')\n",
    "\n",
    "\n",
    "\"\"\"\n",
    "DON'T MODIFY ANYTHING IN THIS CELL THAT IS BELOW THIS LINE\n",
    "\"\"\"\n",
    "tf.reset_default_graph()\n",
    "tests.test_nn_image_inputs(neural_net_image_input)\n",
    "tests.test_nn_label_inputs(neural_net_label_input)\n",
    "tests.test_nn_keep_prob_inputs(neural_net_keep_prob_input)"
   ]
  },
  {
   "cell_type": "markdown",
   "metadata": {},
   "source": [
    "### Convolution and Max Pooling Layer\n",
    "Convolution layers have a lot of success with images. For this code cell, you should implement the function `conv2d_maxpool` to apply convolution then max pooling:\n",
    "* Create the weight and bias using `conv_ksize`, `conv_num_outputs` and the shape of `x_tensor`.\n",
    "* Apply a convolution to `x_tensor` using weight and `conv_strides`.\n",
    " * We recommend you use same padding, but you're welcome to use any padding.\n",
    "* Add bias\n",
    "* Add a nonlinear activation to the convolution.\n",
    "* Apply Max Pooling using `pool_ksize` and `pool_strides`.\n",
    " * We recommend you use same padding, but you're welcome to use any padding.\n",
    "\n",
    "Note: You **can't** use [TensorFlow Layers](https://www.tensorflow.org/api_docs/python/tf/layers) or [TensorFlow Layers (contrib)](https://www.tensorflow.org/api_guides/python/contrib.layers) for this layer.  You're free to use any TensorFlow package for all the other layers."
   ]
  },
  {
   "cell_type": "code",
   "execution_count": 8,
   "metadata": {
    "collapsed": false
   },
   "outputs": [
    {
     "name": "stdout",
     "output_type": "stream",
     "text": [
      "Tests Passed\n"
     ]
    }
   ],
   "source": [
    "def conv2d_maxpool(x_tensor, conv_num_outputs, conv_ksize, conv_strides, pool_ksize, pool_strides):\n",
    "    \"\"\"\n",
    "    Apply convolution then max pooling to x_tensor\n",
    "    :param x_tensor: TensorFlow Tensor\n",
    "    :param conv_num_outputs: Number of outputs for the convolutional layer\n",
    "    :param conv_strides: Stride 2-D Tuple for convolution\n",
    "    :param pool_ksize: kernal size 2-D Tuple for pool\n",
    "    :param pool_strides: Stride 2-D Tuple for pool\n",
    "    : return: A tensor that represents convolution and max pooling of x_tensor\n",
    "    \"\"\"\n",
    "    # TODO: Implement Function\n",
    "    W = tf.Variable(tf.truncated_normal(shape=[conv_ksize[0], conv_ksize[1], x_tensor.get_shape().as_list()[-1], conv_num_outputs], mean=0.0, stddev=0.1))\n",
    "    B = tf.Variable(tf.zeros([conv_num_outputs]))\n",
    "    \n",
    "    conv2d = tf.nn.conv2d(x_tensor, W, strides=[1, conv_strides[0], conv_strides[1], 1], padding='SAME')\n",
    "    layer1 = tf.nn.bias_add(conv2d, B)\n",
    "    nonlin = tf.nn.relu(layer1)\n",
    "    maxp = tf.nn.max_pool(nonlin, ksize=[1, pool_ksize[0], pool_ksize[1], 1],strides=[1, pool_strides[0],pool_strides[1], 1], padding='SAME')\n",
    "    return maxp\n",
    "\n",
    "\n",
    "\"\"\"\n",
    "DON'T MODIFY ANYTHING IN THIS CELL THAT IS BELOW THIS LINE\n",
    "\"\"\"\n",
    "tests.test_con_pool(conv2d_maxpool)"
   ]
  },
  {
   "cell_type": "markdown",
   "metadata": {},
   "source": [
    "### Flatten Layer\n",
    "Implement the `flatten` function to change the dimension of `x_tensor` from a 4-D tensor to a 2-D tensor.  The output should be the shape (*Batch Size*, *Flattened Image Size*). You can use [TensorFlow Layers](https://www.tensorflow.org/api_docs/python/tf/layers) or [TensorFlow Layers (contrib)](https://www.tensorflow.org/api_guides/python/contrib.layers) for this layer."
   ]
  },
  {
   "cell_type": "code",
   "execution_count": 9,
   "metadata": {
    "collapsed": false
   },
   "outputs": [
    {
     "name": "stdout",
     "output_type": "stream",
     "text": [
      "Tests Passed\n"
     ]
    }
   ],
   "source": [
    "def flatten(x_tensor):\n",
    "    \"\"\"\n",
    "    Flatten x_tensor to (Batch Size, Flattened Image Size)\n",
    "    : x_tensor: A tensor of size (Batch Size, ...), where ... are the image dimensions.\n",
    "    : return: A tensor of size (Batch Size, Flattened Image Size).\n",
    "    \"\"\"\n",
    "    # TODO: Implement Function\n",
    "    return tf.contrib.layers.flatten(x_tensor)\n",
    "\n",
    "\n",
    "\"\"\"\n",
    "DON'T MODIFY ANYTHING IN THIS CELL THAT IS BELOW THIS LINE\n",
    "\"\"\"\n",
    "tests.test_flatten(flatten)"
   ]
  },
  {
   "cell_type": "markdown",
   "metadata": {},
   "source": [
    "### Fully-Connected Layer\n",
    "Implement the `fully_conn` function to apply a fully connected layer to `x_tensor` with the shape (*Batch Size*, *num_outputs*). You can use [TensorFlow Layers](https://www.tensorflow.org/api_docs/python/tf/layers) or [TensorFlow Layers (contrib)](https://www.tensorflow.org/api_guides/python/contrib.layers) for this layer."
   ]
  },
  {
   "cell_type": "code",
   "execution_count": 10,
   "metadata": {
    "collapsed": false
   },
   "outputs": [
    {
     "name": "stdout",
     "output_type": "stream",
     "text": [
      "Tests Passed\n"
     ]
    }
   ],
   "source": [
    "def fully_conn(x_tensor, num_outputs):\n",
    "    \"\"\"\n",
    "    Apply a fully connected layer to x_tensor using weight and bias\n",
    "    : x_tensor: A 2-D tensor where the first dimension is batch size.\n",
    "    : num_outputs: The number of output that the new tensor should be.\n",
    "    : return: A 2-D tensor where the second dimension is num_outputs.\n",
    "    \"\"\"\n",
    "    # TODO: Implement Function\n",
    "    return tf.contrib.layers.fully_connected(x_tensor,num_outputs)\n",
    "\n",
    "\n",
    "\"\"\"\n",
    "DON'T MODIFY ANYTHING IN THIS CELL THAT IS BELOW THIS LINE\n",
    "\"\"\"\n",
    "tests.test_fully_conn(fully_conn)"
   ]
  },
  {
   "cell_type": "markdown",
   "metadata": {},
   "source": [
    "### Output Layer\n",
    "Implement the `output` function to apply a fully connected layer to `x_tensor` with the shape (*Batch Size*, *num_outputs*). You can use [TensorFlow Layers](https://www.tensorflow.org/api_docs/python/tf/layers) or [TensorFlow Layers (contrib)](https://www.tensorflow.org/api_guides/python/contrib.layers) for this layer.\n",
    "\n",
    "Note: Activation, softmax, or cross entropy shouldn't be applied to this."
   ]
  },
  {
   "cell_type": "code",
   "execution_count": 11,
   "metadata": {
    "collapsed": false
   },
   "outputs": [
    {
     "name": "stdout",
     "output_type": "stream",
     "text": [
      "Tests Passed\n"
     ]
    }
   ],
   "source": [
    "def output(x_tensor, num_outputs):\n",
    "    \"\"\"\n",
    "    Apply a output layer to x_tensor using weight and bias\n",
    "    : x_tensor: A 2-D tensor where the first dimension is batch size.\n",
    "    : num_outputs: The number of output that the new tensor should be.\n",
    "    : return: A 2-D tensor where the second dimension is num_outputs.\n",
    "    \"\"\"\n",
    "    # TODO: Implement Function\n",
    "    return tf.contrib.layers.fully_connected(x_tensor,num_outputs,activation_fn=None)\n",
    "\n",
    "\n",
    "\"\"\"\n",
    "DON'T MODIFY ANYTHING IN THIS CELL THAT IS BELOW THIS LINE\n",
    "\"\"\"\n",
    "tests.test_output(output)"
   ]
  },
  {
   "cell_type": "markdown",
   "metadata": {},
   "source": [
    "### Create Convolutional Model\n",
    "Implement the function `conv_net` to create a convolutional neural network model. The function takes in a batch of images, `x`, and outputs logits.  Use the layers you created above to create this model:\n",
    "\n",
    "* Apply 1, 2, or 3 Convolution and Max Pool layers\n",
    "* Apply a Flatten Layer\n",
    "* Apply 1, 2, or 3 Fully Connected Layers\n",
    "* Apply an Output Layer\n",
    "* Return the output\n",
    "* Apply [TensorFlow's Dropout](https://www.tensorflow.org/api_docs/python/tf/nn/dropout) to one or more layers in the model using `keep_prob`. "
   ]
  },
  {
   "cell_type": "code",
   "execution_count": 12,
   "metadata": {
    "collapsed": false
   },
   "outputs": [
    {
     "name": "stdout",
     "output_type": "stream",
     "text": [
      "Neural Network Built!\n"
     ]
    }
   ],
   "source": [
    "def conv_net(x, keep_prob):\n",
    "    \"\"\"\n",
    "    Create a convolutional neural network model\n",
    "    : x: Placeholder tensor that holds image data.\n",
    "    : keep_prob: Placeholder tensor that hold dropout keep probability.\n",
    "    : return: Tensor that represents logits\n",
    "    \"\"\"\n",
    "    # TODO: Apply 1, 2, or 3 Convolution and Max Pool layers\n",
    "    #    Play around with different number of outputs, kernel size and stride\n",
    "    # Function Definition from Above:\n",
    "\n",
    "    conv_ksize = (4,4)\n",
    "    conv_strides = (1,1)\n",
    "    pool_ksize = (2,2)\n",
    "    pool_strides = (2,2)\n",
    "    conv1 = conv2d_maxpool(x, 16, conv_ksize, conv_strides, pool_ksize, pool_strides)\n",
    "    \n",
    "    conv2 = conv2d_maxpool(conv1, 32, conv_ksize, conv_strides, pool_ksize, pool_strides)\n",
    "    \n",
    "    conv3 = conv2d_maxpool(conv2, 64, conv_ksize, conv_strides, pool_ksize, pool_strides)\n",
    "    \n",
    "    flt_1 = flatten(conv3)\n",
    "\n",
    "    full_1 = fully_conn(flt_1, 32)\n",
    "    drop_1 = tf.nn.dropout(full_1, keep_prob)\n",
    "    out_1 = output(drop_1, 10)\n",
    "    return out_1\n",
    "\n",
    "\n",
    "\"\"\"\n",
    "DON'T MODIFY ANYTHING IN THIS CELL THAT IS BELOW THIS LINE\n",
    "\"\"\"\n",
    "\n",
    "##############################\n",
    "## Build the Neural Network ##\n",
    "##############################\n",
    "\n",
    "# Remove previous weights, bias, inputs, etc..\n",
    "tf.reset_default_graph()\n",
    "\n",
    "# Inputs\n",
    "x = neural_net_image_input((32, 32, 3))\n",
    "y = neural_net_label_input(10)\n",
    "keep_prob = neural_net_keep_prob_input()\n",
    "\n",
    "# Model\n",
    "logits = conv_net(x, keep_prob)\n",
    "\n",
    "# Name logits Tensor, so that is can be loaded from disk after training\n",
    "logits = tf.identity(logits, name='logits')\n",
    "\n",
    "# Loss and Optimizer\n",
    "cost = tf.reduce_mean(tf.nn.softmax_cross_entropy_with_logits(logits=logits, labels=y))\n",
    "optimizer = tf.train.AdamOptimizer().minimize(cost)\n",
    "\n",
    "# Accuracy\n",
    "correct_pred = tf.equal(tf.argmax(logits, 1), tf.argmax(y, 1))\n",
    "accuracy = tf.reduce_mean(tf.cast(correct_pred, tf.float32), name='accuracy')\n",
    "\n",
    "tests.test_conv_net(conv_net)"
   ]
  },
  {
   "cell_type": "markdown",
   "metadata": {},
   "source": [
    "## Train the Neural Network\n",
    "### Single Optimization\n",
    "Implement the function `train_neural_network` to do a single optimization.  The optimization should use `optimizer` to optimize in `session` with a `feed_dict` of the following:\n",
    "* `x` for image input\n",
    "* `y` for labels\n",
    "* `keep_prob` for keep probability for dropout\n",
    "\n",
    "This function will be called for each batch, so `tf.global_variables_initializer()` has already been called.\n",
    "\n",
    "Note: Nothing needs to be returned. This function is only optimizing the neural network."
   ]
  },
  {
   "cell_type": "code",
   "execution_count": 13,
   "metadata": {
    "collapsed": false
   },
   "outputs": [
    {
     "name": "stdout",
     "output_type": "stream",
     "text": [
      "Tests Passed\n"
     ]
    }
   ],
   "source": [
    "def train_neural_network(session, optimizer, keep_probability, feature_batch, label_batch):\n",
    "    \"\"\"\n",
    "    Optimize the session on a batch of images and labels\n",
    "    : session: Current TensorFlow session\n",
    "    : optimizer: TensorFlow optimizer function\n",
    "    : keep_probability: keep probability\n",
    "    : feature_batch: Batch of Numpy image data\n",
    "    : label_batch: Batch of Numpy label data\n",
    "    \"\"\"\n",
    "    # TODO: Implement Function\n",
    "    session.run(optimizer,feed_dict={x:feature_batch, y:label_batch, keep_prob:keep_probability})\n",
    "\n",
    "\n",
    "\"\"\"\n",
    "DON'T MODIFY ANYTHING IN THIS CELL THAT IS BELOW THIS LINE\n",
    "\"\"\"\n",
    "tests.test_train_nn(train_neural_network)"
   ]
  },
  {
   "cell_type": "markdown",
   "metadata": {},
   "source": [
    "### Show Stats\n",
    "Implement the function `print_stats` to print loss and validation accuracy.  Use the global variables `valid_features` and `valid_labels` to calculate validation accuracy.  Use a keep probability of `1.0` to calculate the loss and validation accuracy."
   ]
  },
  {
   "cell_type": "code",
   "execution_count": 14,
   "metadata": {
    "collapsed": false
   },
   "outputs": [],
   "source": [
    "def print_stats(session, feature_batch, label_batch, cost, accuracy):\n",
    "    \"\"\"\n",
    "    Print information about loss and validation accuracy\n",
    "    : session: Current TensorFlow session\n",
    "    : feature_batch: Batch of Numpy image data\n",
    "    : label_batch: Batch of Numpy label data\n",
    "    : cost: TensorFlow cost function\n",
    "    : accuracy: TensorFlow accuracy function\n",
    "    \"\"\"\n",
    "    # TODO: Implement Function\n",
    "    \n",
    "    # Calculate batch loss and accuracy\n",
    "    loss = session.run(cost, feed_dict={x: feature_batch, y: label_batch, keep_prob: 1.})\n",
    "    valid_acc = session.run(accuracy, feed_dict={x: valid_features, y: valid_labels, keep_prob: 1.})\n",
    "\n",
    "    print('Loss: {:>10.4f} Validation Accuracy: {:.6f}'.format(loss, valid_acc))\n",
    "   "
   ]
  },
  {
   "cell_type": "markdown",
   "metadata": {},
   "source": [
    "### Hyperparameters\n",
    "Tune the following parameters:\n",
    "* Set `epochs` to the number of iterations until the network stops learning or start overfitting\n",
    "* Set `batch_size` to the highest number that your machine has memory for.  Most people set them to common sizes of memory:\n",
    " * 64\n",
    " * 128\n",
    " * 256\n",
    " * ...\n",
    "* Set `keep_probability` to the probability of keeping a node using dropout"
   ]
  },
  {
   "cell_type": "code",
   "execution_count": 15,
   "metadata": {
    "collapsed": true
   },
   "outputs": [],
   "source": [
    "# TODO: Tune Parameters\n",
    "epochs = 50\n",
    "batch_size = 128\n",
    "keep_probability = 0.6"
   ]
  },
  {
   "cell_type": "markdown",
   "metadata": {},
   "source": [
    "### Train on a Single CIFAR-10 Batch\n",
    "Instead of training the neural network on all the CIFAR-10 batches of data, let's use a single batch. This should save time while you iterate on the model to get a better accuracy.  Once the final validation accuracy is 50% or greater, run the model on all the data in the next section."
   ]
  },
  {
   "cell_type": "code",
   "execution_count": 16,
   "metadata": {
    "collapsed": false
   },
   "outputs": [
    {
     "name": "stdout",
     "output_type": "stream",
     "text": [
      "Checking the Training on a Single Batch...\n",
      "Epoch  1, CIFAR-10 Batch 1:  Loss:     2.1400 Validation Accuracy: 0.300400\n",
      "Epoch  2, CIFAR-10 Batch 1:  Loss:     2.0000 Validation Accuracy: 0.346800\n",
      "Epoch  3, CIFAR-10 Batch 1:  Loss:     1.8372 Validation Accuracy: 0.387600\n",
      "Epoch  4, CIFAR-10 Batch 1:  Loss:     1.7634 Validation Accuracy: 0.416600\n",
      "Epoch  5, CIFAR-10 Batch 1:  Loss:     1.6864 Validation Accuracy: 0.458200\n",
      "Epoch  6, CIFAR-10 Batch 1:  Loss:     1.6068 Validation Accuracy: 0.473600\n",
      "Epoch  7, CIFAR-10 Batch 1:  Loss:     1.5715 Validation Accuracy: 0.489800\n",
      "Epoch  8, CIFAR-10 Batch 1:  Loss:     1.4338 Validation Accuracy: 0.489600\n",
      "Epoch  9, CIFAR-10 Batch 1:  Loss:     1.3766 Validation Accuracy: 0.487000\n",
      "Epoch 10, CIFAR-10 Batch 1:  Loss:     1.2933 Validation Accuracy: 0.516400\n",
      "Epoch 11, CIFAR-10 Batch 1:  Loss:     1.1715 Validation Accuracy: 0.534000\n",
      "Epoch 12, CIFAR-10 Batch 1:  Loss:     1.1683 Validation Accuracy: 0.517200\n",
      "Epoch 13, CIFAR-10 Batch 1:  Loss:     1.1041 Validation Accuracy: 0.525800\n",
      "Epoch 14, CIFAR-10 Batch 1:  Loss:     1.0352 Validation Accuracy: 0.526200\n",
      "Epoch 15, CIFAR-10 Batch 1:  Loss:     0.9679 Validation Accuracy: 0.541800\n",
      "Epoch 16, CIFAR-10 Batch 1:  Loss:     0.9725 Validation Accuracy: 0.530400\n",
      "Epoch 17, CIFAR-10 Batch 1:  Loss:     0.8541 Validation Accuracy: 0.557000\n",
      "Epoch 18, CIFAR-10 Batch 1:  Loss:     0.8283 Validation Accuracy: 0.550200\n",
      "Epoch 19, CIFAR-10 Batch 1:  Loss:     0.7657 Validation Accuracy: 0.557800\n",
      "Epoch 20, CIFAR-10 Batch 1:  Loss:     0.7360 Validation Accuracy: 0.557000\n",
      "Epoch 21, CIFAR-10 Batch 1:  Loss:     0.7052 Validation Accuracy: 0.561600\n",
      "Epoch 22, CIFAR-10 Batch 1:  Loss:     0.6605 Validation Accuracy: 0.561800\n",
      "Epoch 23, CIFAR-10 Batch 1:  Loss:     0.7026 Validation Accuracy: 0.568800\n",
      "Epoch 24, CIFAR-10 Batch 1:  Loss:     0.6347 Validation Accuracy: 0.548800\n",
      "Epoch 25, CIFAR-10 Batch 1:  Loss:     0.6336 Validation Accuracy: 0.561000\n",
      "Epoch 26, CIFAR-10 Batch 1:  Loss:     0.7044 Validation Accuracy: 0.535400\n",
      "Epoch 27, CIFAR-10 Batch 1:  Loss:     0.6677 Validation Accuracy: 0.537000\n",
      "Epoch 28, CIFAR-10 Batch 1:  Loss:     0.5825 Validation Accuracy: 0.558000\n",
      "Epoch 29, CIFAR-10 Batch 1:  Loss:     0.5831 Validation Accuracy: 0.581000\n",
      "Epoch 30, CIFAR-10 Batch 1:  Loss:     0.5707 Validation Accuracy: 0.579800\n",
      "Epoch 31, CIFAR-10 Batch 1:  Loss:     0.5252 Validation Accuracy: 0.575000\n",
      "Epoch 32, CIFAR-10 Batch 1:  Loss:     0.4951 Validation Accuracy: 0.583600\n",
      "Epoch 33, CIFAR-10 Batch 1:  Loss:     0.4964 Validation Accuracy: 0.567600\n",
      "Epoch 34, CIFAR-10 Batch 1:  Loss:     0.4794 Validation Accuracy: 0.583400\n",
      "Epoch 35, CIFAR-10 Batch 1:  Loss:     0.4869 Validation Accuracy: 0.560400\n",
      "Epoch 36, CIFAR-10 Batch 1:  Loss:     0.4597 Validation Accuracy: 0.573800\n",
      "Epoch 37, CIFAR-10 Batch 1:  Loss:     0.4989 Validation Accuracy: 0.557200\n",
      "Epoch 38, CIFAR-10 Batch 1:  Loss:     0.4502 Validation Accuracy: 0.571800\n",
      "Epoch 39, CIFAR-10 Batch 1:  Loss:     0.3914 Validation Accuracy: 0.561800\n",
      "Epoch 40, CIFAR-10 Batch 1:  Loss:     0.4209 Validation Accuracy: 0.577200\n",
      "Epoch 41, CIFAR-10 Batch 1:  Loss:     0.3785 Validation Accuracy: 0.570200\n",
      "Epoch 42, CIFAR-10 Batch 1:  Loss:     0.3523 Validation Accuracy: 0.561600\n",
      "Epoch 43, CIFAR-10 Batch 1:  Loss:     0.3641 Validation Accuracy: 0.562600\n",
      "Epoch 44, CIFAR-10 Batch 1:  Loss:     0.3281 Validation Accuracy: 0.578400\n",
      "Epoch 45, CIFAR-10 Batch 1:  Loss:     0.3597 Validation Accuracy: 0.578400\n",
      "Epoch 46, CIFAR-10 Batch 1:  Loss:     0.3229 Validation Accuracy: 0.561800\n",
      "Epoch 47, CIFAR-10 Batch 1:  Loss:     0.2974 Validation Accuracy: 0.561800\n",
      "Epoch 48, CIFAR-10 Batch 1:  Loss:     0.3014 Validation Accuracy: 0.563600\n",
      "Epoch 49, CIFAR-10 Batch 1:  Loss:     0.2903 Validation Accuracy: 0.572000\n",
      "Epoch 50, CIFAR-10 Batch 1:  Loss:     0.2678 Validation Accuracy: 0.569000\n"
     ]
    }
   ],
   "source": [
    "\"\"\"\n",
    "DON'T MODIFY ANYTHING IN THIS CELL\n",
    "\"\"\"\n",
    "print('Checking the Training on a Single Batch...')\n",
    "with tf.Session() as sess:\n",
    "    # Initializing the variables\n",
    "    sess.run(tf.global_variables_initializer())\n",
    "    \n",
    "    # Training cycle\n",
    "    for epoch in range(epochs):\n",
    "        batch_i = 1\n",
    "        for batch_features, batch_labels in helper.load_preprocess_training_batch(batch_i, batch_size):\n",
    "            train_neural_network(sess, optimizer, keep_probability, batch_features, batch_labels)\n",
    "        print('Epoch {:>2}, CIFAR-10 Batch {}:  '.format(epoch + 1, batch_i), end='')\n",
    "        print_stats(sess, batch_features, batch_labels, cost, accuracy)"
   ]
  },
  {
   "cell_type": "markdown",
   "metadata": {},
   "source": [
    "### Fully Train the Model\n",
    "Now that you got a good accuracy with a single CIFAR-10 batch, try it with all five batches."
   ]
  },
  {
   "cell_type": "code",
   "execution_count": 17,
   "metadata": {
    "collapsed": false
   },
   "outputs": [
    {
     "name": "stdout",
     "output_type": "stream",
     "text": [
      "Training...\n",
      "Epoch  1, CIFAR-10 Batch 1:  Loss:     2.1233 Validation Accuracy: 0.277400\n",
      "Epoch  1, CIFAR-10 Batch 2:  Loss:     1.9324 Validation Accuracy: 0.328800\n",
      "Epoch  1, CIFAR-10 Batch 3:  Loss:     1.6529 Validation Accuracy: 0.366800\n",
      "Epoch  1, CIFAR-10 Batch 4:  Loss:     1.6542 Validation Accuracy: 0.406800\n",
      "Epoch  1, CIFAR-10 Batch 5:  Loss:     1.7253 Validation Accuracy: 0.417000\n",
      "Epoch  2, CIFAR-10 Batch 1:  Loss:     1.7713 Validation Accuracy: 0.432000\n",
      "Epoch  2, CIFAR-10 Batch 2:  Loss:     1.6053 Validation Accuracy: 0.451000\n",
      "Epoch  2, CIFAR-10 Batch 3:  Loss:     1.3696 Validation Accuracy: 0.470200\n",
      "Epoch  2, CIFAR-10 Batch 4:  Loss:     1.5306 Validation Accuracy: 0.467400\n",
      "Epoch  2, CIFAR-10 Batch 5:  Loss:     1.4933 Validation Accuracy: 0.490400\n",
      "Epoch  3, CIFAR-10 Batch 1:  Loss:     1.5452 Validation Accuracy: 0.494800\n",
      "Epoch  3, CIFAR-10 Batch 2:  Loss:     1.3794 Validation Accuracy: 0.521000\n",
      "Epoch  3, CIFAR-10 Batch 3:  Loss:     1.1322 Validation Accuracy: 0.526000\n",
      "Epoch  3, CIFAR-10 Batch 4:  Loss:     1.3237 Validation Accuracy: 0.530600\n",
      "Epoch  3, CIFAR-10 Batch 5:  Loss:     1.3167 Validation Accuracy: 0.542800\n",
      "Epoch  4, CIFAR-10 Batch 1:  Loss:     1.4263 Validation Accuracy: 0.529600\n",
      "Epoch  4, CIFAR-10 Batch 2:  Loss:     1.2929 Validation Accuracy: 0.521000\n",
      "Epoch  4, CIFAR-10 Batch 3:  Loss:     1.0346 Validation Accuracy: 0.551200\n",
      "Epoch  4, CIFAR-10 Batch 4:  Loss:     1.1772 Validation Accuracy: 0.557600\n",
      "Epoch  4, CIFAR-10 Batch 5:  Loss:     1.2156 Validation Accuracy: 0.559400\n",
      "Epoch  5, CIFAR-10 Batch 1:  Loss:     1.1769 Validation Accuracy: 0.568400\n",
      "Epoch  5, CIFAR-10 Batch 2:  Loss:     1.0878 Validation Accuracy: 0.576000\n",
      "Epoch  5, CIFAR-10 Batch 3:  Loss:     0.9264 Validation Accuracy: 0.567800\n",
      "Epoch  5, CIFAR-10 Batch 4:  Loss:     1.0872 Validation Accuracy: 0.587600\n",
      "Epoch  5, CIFAR-10 Batch 5:  Loss:     1.0944 Validation Accuracy: 0.575200\n",
      "Epoch  6, CIFAR-10 Batch 1:  Loss:     1.1251 Validation Accuracy: 0.597000\n",
      "Epoch  6, CIFAR-10 Batch 2:  Loss:     0.9991 Validation Accuracy: 0.593400\n",
      "Epoch  6, CIFAR-10 Batch 3:  Loss:     0.8298 Validation Accuracy: 0.584200\n",
      "Epoch  6, CIFAR-10 Batch 4:  Loss:     0.9451 Validation Accuracy: 0.613600\n",
      "Epoch  6, CIFAR-10 Batch 5:  Loss:     1.0092 Validation Accuracy: 0.599200\n",
      "Epoch  7, CIFAR-10 Batch 1:  Loss:     1.0603 Validation Accuracy: 0.614400\n",
      "Epoch  7, CIFAR-10 Batch 2:  Loss:     0.9510 Validation Accuracy: 0.607600\n",
      "Epoch  7, CIFAR-10 Batch 3:  Loss:     0.7989 Validation Accuracy: 0.594800\n",
      "Epoch  7, CIFAR-10 Batch 4:  Loss:     0.9543 Validation Accuracy: 0.604800\n",
      "Epoch  7, CIFAR-10 Batch 5:  Loss:     0.9267 Validation Accuracy: 0.618400\n",
      "Epoch  8, CIFAR-10 Batch 1:  Loss:     0.9650 Validation Accuracy: 0.629000\n",
      "Epoch  8, CIFAR-10 Batch 2:  Loss:     0.8768 Validation Accuracy: 0.619400\n",
      "Epoch  8, CIFAR-10 Batch 3:  Loss:     0.7098 Validation Accuracy: 0.623600\n",
      "Epoch  8, CIFAR-10 Batch 4:  Loss:     0.8811 Validation Accuracy: 0.612800\n",
      "Epoch  8, CIFAR-10 Batch 5:  Loss:     0.8327 Validation Accuracy: 0.634600\n",
      "Epoch  9, CIFAR-10 Batch 1:  Loss:     0.9224 Validation Accuracy: 0.632600\n",
      "Epoch  9, CIFAR-10 Batch 2:  Loss:     0.8114 Validation Accuracy: 0.633000\n",
      "Epoch  9, CIFAR-10 Batch 3:  Loss:     0.6631 Validation Accuracy: 0.624400\n",
      "Epoch  9, CIFAR-10 Batch 4:  Loss:     0.8258 Validation Accuracy: 0.642800\n",
      "Epoch  9, CIFAR-10 Batch 5:  Loss:     0.7895 Validation Accuracy: 0.644200\n",
      "Epoch 10, CIFAR-10 Batch 1:  Loss:     0.8300 Validation Accuracy: 0.644000\n",
      "Epoch 10, CIFAR-10 Batch 2:  Loss:     0.6918 Validation Accuracy: 0.634000\n",
      "Epoch 10, CIFAR-10 Batch 3:  Loss:     0.6161 Validation Accuracy: 0.635800\n",
      "Epoch 10, CIFAR-10 Batch 4:  Loss:     0.7363 Validation Accuracy: 0.660200\n",
      "Epoch 10, CIFAR-10 Batch 5:  Loss:     0.7700 Validation Accuracy: 0.642400\n",
      "Epoch 11, CIFAR-10 Batch 1:  Loss:     0.8183 Validation Accuracy: 0.640600\n",
      "Epoch 11, CIFAR-10 Batch 2:  Loss:     0.6356 Validation Accuracy: 0.651400\n",
      "Epoch 11, CIFAR-10 Batch 3:  Loss:     0.6139 Validation Accuracy: 0.637200\n",
      "Epoch 11, CIFAR-10 Batch 4:  Loss:     0.7088 Validation Accuracy: 0.655000\n",
      "Epoch 11, CIFAR-10 Batch 5:  Loss:     0.6731 Validation Accuracy: 0.655200\n",
      "Epoch 12, CIFAR-10 Batch 1:  Loss:     0.7105 Validation Accuracy: 0.659000\n",
      "Epoch 12, CIFAR-10 Batch 2:  Loss:     0.5579 Validation Accuracy: 0.660600\n",
      "Epoch 12, CIFAR-10 Batch 3:  Loss:     0.5711 Validation Accuracy: 0.642600\n",
      "Epoch 12, CIFAR-10 Batch 4:  Loss:     0.6606 Validation Accuracy: 0.658000\n",
      "Epoch 12, CIFAR-10 Batch 5:  Loss:     0.6290 Validation Accuracy: 0.657800\n",
      "Epoch 13, CIFAR-10 Batch 1:  Loss:     0.6536 Validation Accuracy: 0.663000\n",
      "Epoch 13, CIFAR-10 Batch 2:  Loss:     0.5975 Validation Accuracy: 0.663200\n",
      "Epoch 13, CIFAR-10 Batch 3:  Loss:     0.5300 Validation Accuracy: 0.662800\n",
      "Epoch 13, CIFAR-10 Batch 4:  Loss:     0.6546 Validation Accuracy: 0.660000\n",
      "Epoch 13, CIFAR-10 Batch 5:  Loss:     0.5683 Validation Accuracy: 0.671600\n",
      "Epoch 14, CIFAR-10 Batch 1:  Loss:     0.6914 Validation Accuracy: 0.662600\n",
      "Epoch 14, CIFAR-10 Batch 2:  Loss:     0.5473 Validation Accuracy: 0.669000\n",
      "Epoch 14, CIFAR-10 Batch 3:  Loss:     0.5418 Validation Accuracy: 0.653600\n",
      "Epoch 14, CIFAR-10 Batch 4:  Loss:     0.6376 Validation Accuracy: 0.657200\n",
      "Epoch 14, CIFAR-10 Batch 5:  Loss:     0.5446 Validation Accuracy: 0.659800\n",
      "Epoch 15, CIFAR-10 Batch 1:  Loss:     0.5855 Validation Accuracy: 0.666200\n",
      "Epoch 15, CIFAR-10 Batch 2:  Loss:     0.5574 Validation Accuracy: 0.656400\n",
      "Epoch 15, CIFAR-10 Batch 3:  Loss:     0.4760 Validation Accuracy: 0.668600\n",
      "Epoch 15, CIFAR-10 Batch 4:  Loss:     0.5854 Validation Accuracy: 0.668800\n",
      "Epoch 15, CIFAR-10 Batch 5:  Loss:     0.5735 Validation Accuracy: 0.654200\n",
      "Epoch 16, CIFAR-10 Batch 1:  Loss:     0.5583 Validation Accuracy: 0.656600\n",
      "Epoch 16, CIFAR-10 Batch 2:  Loss:     0.4979 Validation Accuracy: 0.659400\n",
      "Epoch 16, CIFAR-10 Batch 3:  Loss:     0.4304 Validation Accuracy: 0.672400\n",
      "Epoch 16, CIFAR-10 Batch 4:  Loss:     0.5108 Validation Accuracy: 0.678800\n",
      "Epoch 16, CIFAR-10 Batch 5:  Loss:     0.5002 Validation Accuracy: 0.665800\n",
      "Epoch 17, CIFAR-10 Batch 1:  Loss:     0.5170 Validation Accuracy: 0.676400\n",
      "Epoch 17, CIFAR-10 Batch 2:  Loss:     0.4968 Validation Accuracy: 0.663800\n",
      "Epoch 17, CIFAR-10 Batch 3:  Loss:     0.4596 Validation Accuracy: 0.668600\n",
      "Epoch 17, CIFAR-10 Batch 4:  Loss:     0.4983 Validation Accuracy: 0.672400\n",
      "Epoch 17, CIFAR-10 Batch 5:  Loss:     0.5318 Validation Accuracy: 0.659200\n",
      "Epoch 18, CIFAR-10 Batch 1:  Loss:     0.5034 Validation Accuracy: 0.684400\n",
      "Epoch 18, CIFAR-10 Batch 2:  Loss:     0.4426 Validation Accuracy: 0.675200\n",
      "Epoch 18, CIFAR-10 Batch 3:  Loss:     0.4376 Validation Accuracy: 0.675800\n",
      "Epoch 18, CIFAR-10 Batch 4:  Loss:     0.5190 Validation Accuracy: 0.672800\n",
      "Epoch 18, CIFAR-10 Batch 5:  Loss:     0.5140 Validation Accuracy: 0.670800\n",
      "Epoch 19, CIFAR-10 Batch 1:  Loss:     0.4924 Validation Accuracy: 0.683200\n",
      "Epoch 19, CIFAR-10 Batch 2:  Loss:     0.4441 Validation Accuracy: 0.669800\n",
      "Epoch 19, CIFAR-10 Batch 3:  Loss:     0.4071 Validation Accuracy: 0.684400\n",
      "Epoch 19, CIFAR-10 Batch 4:  Loss:     0.4400 Validation Accuracy: 0.674600\n",
      "Epoch 19, CIFAR-10 Batch 5:  Loss:     0.4553 Validation Accuracy: 0.678600\n",
      "Epoch 20, CIFAR-10 Batch 1:  Loss:     0.5126 Validation Accuracy: 0.677400\n",
      "Epoch 20, CIFAR-10 Batch 2:  Loss:     0.4186 Validation Accuracy: 0.672200\n",
      "Epoch 20, CIFAR-10 Batch 3:  Loss:     0.3679 Validation Accuracy: 0.685400\n",
      "Epoch 20, CIFAR-10 Batch 4:  Loss:     0.4499 Validation Accuracy: 0.675800\n",
      "Epoch 20, CIFAR-10 Batch 5:  Loss:     0.4649 Validation Accuracy: 0.668800\n",
      "Epoch 21, CIFAR-10 Batch 1:  Loss:     0.4567 Validation Accuracy: 0.685800\n",
      "Epoch 21, CIFAR-10 Batch 2:  Loss:     0.4117 Validation Accuracy: 0.674000\n",
      "Epoch 21, CIFAR-10 Batch 3:  Loss:     0.3678 Validation Accuracy: 0.688200\n",
      "Epoch 21, CIFAR-10 Batch 4:  Loss:     0.4371 Validation Accuracy: 0.669200\n",
      "Epoch 21, CIFAR-10 Batch 5:  Loss:     0.3978 Validation Accuracy: 0.689400\n",
      "Epoch 22, CIFAR-10 Batch 1:  Loss:     0.4748 Validation Accuracy: 0.681600\n",
      "Epoch 22, CIFAR-10 Batch 2:  Loss:     0.4167 Validation Accuracy: 0.681000\n",
      "Epoch 22, CIFAR-10 Batch 3:  Loss:     0.3394 Validation Accuracy: 0.678400\n",
      "Epoch 22, CIFAR-10 Batch 4:  Loss:     0.3954 Validation Accuracy: 0.684200\n",
      "Epoch 22, CIFAR-10 Batch 5:  Loss:     0.3453 Validation Accuracy: 0.677000\n",
      "Epoch 23, CIFAR-10 Batch 1:  Loss:     0.4499 Validation Accuracy: 0.686000\n",
      "Epoch 23, CIFAR-10 Batch 2:  Loss:     0.4176 Validation Accuracy: 0.685400\n",
      "Epoch 23, CIFAR-10 Batch 3:  Loss:     0.3023 Validation Accuracy: 0.675200\n",
      "Epoch 23, CIFAR-10 Batch 4:  Loss:     0.4028 Validation Accuracy: 0.680800\n",
      "Epoch 23, CIFAR-10 Batch 5:  Loss:     0.3630 Validation Accuracy: 0.680800\n",
      "Epoch 24, CIFAR-10 Batch 1:  Loss:     0.4504 Validation Accuracy: 0.684600\n",
      "Epoch 24, CIFAR-10 Batch 2:  Loss:     0.3534 Validation Accuracy: 0.671600\n",
      "Epoch 24, CIFAR-10 Batch 3:  Loss:     0.3013 Validation Accuracy: 0.682400\n",
      "Epoch 24, CIFAR-10 Batch 4:  Loss:     0.4149 Validation Accuracy: 0.676400\n",
      "Epoch 24, CIFAR-10 Batch 5:  Loss:     0.3201 Validation Accuracy: 0.686200\n",
      "Epoch 25, CIFAR-10 Batch 1:  Loss:     0.4402 Validation Accuracy: 0.689200\n",
      "Epoch 25, CIFAR-10 Batch 2:  Loss:     0.3258 Validation Accuracy: 0.681000\n",
      "Epoch 25, CIFAR-10 Batch 3:  Loss:     0.2983 Validation Accuracy: 0.698400\n",
      "Epoch 25, CIFAR-10 Batch 4:  Loss:     0.4075 Validation Accuracy: 0.682000\n",
      "Epoch 25, CIFAR-10 Batch 5:  Loss:     0.3435 Validation Accuracy: 0.690200\n",
      "Epoch 26, CIFAR-10 Batch 1:  Loss:     0.4378 Validation Accuracy: 0.691000\n",
      "Epoch 26, CIFAR-10 Batch 2:  Loss:     0.3255 Validation Accuracy: 0.678000\n",
      "Epoch 26, CIFAR-10 Batch 3:  Loss:     0.3010 Validation Accuracy: 0.692600\n",
      "Epoch 26, CIFAR-10 Batch 4:  Loss:     0.4012 Validation Accuracy: 0.670200\n",
      "Epoch 26, CIFAR-10 Batch 5:  Loss:     0.3143 Validation Accuracy: 0.687200\n",
      "Epoch 27, CIFAR-10 Batch 1:  Loss:     0.3904 Validation Accuracy: 0.692800\n",
      "Epoch 27, CIFAR-10 Batch 2:  Loss:     0.2828 Validation Accuracy: 0.692400\n",
      "Epoch 27, CIFAR-10 Batch 3:  Loss:     0.3082 Validation Accuracy: 0.683400\n",
      "Epoch 27, CIFAR-10 Batch 4:  Loss:     0.4070 Validation Accuracy: 0.674800\n",
      "Epoch 27, CIFAR-10 Batch 5:  Loss:     0.3087 Validation Accuracy: 0.692200\n",
      "Epoch 28, CIFAR-10 Batch 1:  Loss:     0.4091 Validation Accuracy: 0.696600\n",
      "Epoch 28, CIFAR-10 Batch 2:  Loss:     0.2717 Validation Accuracy: 0.693200\n",
      "Epoch 28, CIFAR-10 Batch 3:  Loss:     0.2846 Validation Accuracy: 0.680400\n",
      "Epoch 28, CIFAR-10 Batch 4:  Loss:     0.4123 Validation Accuracy: 0.681000\n",
      "Epoch 28, CIFAR-10 Batch 5:  Loss:     0.2341 Validation Accuracy: 0.695200\n",
      "Epoch 29, CIFAR-10 Batch 1:  Loss:     0.4115 Validation Accuracy: 0.685800\n",
      "Epoch 29, CIFAR-10 Batch 2:  Loss:     0.3046 Validation Accuracy: 0.695800\n",
      "Epoch 29, CIFAR-10 Batch 3:  Loss:     0.2616 Validation Accuracy: 0.696400\n",
      "Epoch 29, CIFAR-10 Batch 4:  Loss:     0.3141 Validation Accuracy: 0.671600\n",
      "Epoch 29, CIFAR-10 Batch 5:  Loss:     0.2446 Validation Accuracy: 0.694800\n",
      "Epoch 30, CIFAR-10 Batch 1:  Loss:     0.3729 Validation Accuracy: 0.689000\n",
      "Epoch 30, CIFAR-10 Batch 2:  Loss:     0.3056 Validation Accuracy: 0.698800\n",
      "Epoch 30, CIFAR-10 Batch 3:  Loss:     0.2512 Validation Accuracy: 0.682800\n",
      "Epoch 30, CIFAR-10 Batch 4:  Loss:     0.3129 Validation Accuracy: 0.688600\n",
      "Epoch 30, CIFAR-10 Batch 5:  Loss:     0.2471 Validation Accuracy: 0.684200\n",
      "Epoch 31, CIFAR-10 Batch 1:  Loss:     0.3568 Validation Accuracy: 0.690600\n",
      "Epoch 31, CIFAR-10 Batch 2:  Loss:     0.2880 Validation Accuracy: 0.695200\n",
      "Epoch 31, CIFAR-10 Batch 3:  Loss:     0.2423 Validation Accuracy: 0.675600\n",
      "Epoch 31, CIFAR-10 Batch 4:  Loss:     0.3107 Validation Accuracy: 0.685400\n",
      "Epoch 31, CIFAR-10 Batch 5:  Loss:     0.2120 Validation Accuracy: 0.693600\n",
      "Epoch 32, CIFAR-10 Batch 1:  Loss:     0.3736 Validation Accuracy: 0.693600\n",
      "Epoch 32, CIFAR-10 Batch 2:  Loss:     0.2701 Validation Accuracy: 0.694400\n",
      "Epoch 32, CIFAR-10 Batch 3:  Loss:     0.2178 Validation Accuracy: 0.667400\n",
      "Epoch 32, CIFAR-10 Batch 4:  Loss:     0.2794 Validation Accuracy: 0.688800\n",
      "Epoch 32, CIFAR-10 Batch 5:  Loss:     0.1990 Validation Accuracy: 0.699800\n",
      "Epoch 33, CIFAR-10 Batch 1:  Loss:     0.3089 Validation Accuracy: 0.683200\n",
      "Epoch 33, CIFAR-10 Batch 2:  Loss:     0.2455 Validation Accuracy: 0.679000\n",
      "Epoch 33, CIFAR-10 Batch 3:  Loss:     0.2194 Validation Accuracy: 0.679000\n",
      "Epoch 33, CIFAR-10 Batch 4:  Loss:     0.2916 Validation Accuracy: 0.677400\n",
      "Epoch 33, CIFAR-10 Batch 5:  Loss:     0.1960 Validation Accuracy: 0.690600\n",
      "Epoch 34, CIFAR-10 Batch 1:  Loss:     0.2979 Validation Accuracy: 0.679400\n",
      "Epoch 34, CIFAR-10 Batch 2:  Loss:     0.2212 Validation Accuracy: 0.687400\n",
      "Epoch 34, CIFAR-10 Batch 3:  Loss:     0.2282 Validation Accuracy: 0.678400\n",
      "Epoch 34, CIFAR-10 Batch 4:  Loss:     0.2867 Validation Accuracy: 0.684200\n",
      "Epoch 34, CIFAR-10 Batch 5:  Loss:     0.1978 Validation Accuracy: 0.702000\n",
      "Epoch 35, CIFAR-10 Batch 1:  Loss:     0.2782 Validation Accuracy: 0.679200\n",
      "Epoch 35, CIFAR-10 Batch 2:  Loss:     0.2135 Validation Accuracy: 0.697400\n",
      "Epoch 35, CIFAR-10 Batch 3:  Loss:     0.2120 Validation Accuracy: 0.671800\n",
      "Epoch 35, CIFAR-10 Batch 4:  Loss:     0.2603 Validation Accuracy: 0.686200\n",
      "Epoch 35, CIFAR-10 Batch 5:  Loss:     0.1925 Validation Accuracy: 0.692800\n",
      "Epoch 36, CIFAR-10 Batch 1:  Loss:     0.2528 Validation Accuracy: 0.691400\n",
      "Epoch 36, CIFAR-10 Batch 2:  Loss:     0.2176 Validation Accuracy: 0.697800\n",
      "Epoch 36, CIFAR-10 Batch 3:  Loss:     0.2385 Validation Accuracy: 0.666600\n",
      "Epoch 36, CIFAR-10 Batch 4:  Loss:     0.2309 Validation Accuracy: 0.696400\n",
      "Epoch 36, CIFAR-10 Batch 5:  Loss:     0.1839 Validation Accuracy: 0.702600\n",
      "Epoch 37, CIFAR-10 Batch 1:  Loss:     0.2462 Validation Accuracy: 0.690800\n",
      "Epoch 37, CIFAR-10 Batch 2:  Loss:     0.2409 Validation Accuracy: 0.686800\n",
      "Epoch 37, CIFAR-10 Batch 3:  Loss:     0.2071 Validation Accuracy: 0.662000\n",
      "Epoch 37, CIFAR-10 Batch 4:  Loss:     0.2264 Validation Accuracy: 0.692800\n",
      "Epoch 37, CIFAR-10 Batch 5:  Loss:     0.1619 Validation Accuracy: 0.689800\n",
      "Epoch 38, CIFAR-10 Batch 1:  Loss:     0.2621 Validation Accuracy: 0.688200\n",
      "Epoch 38, CIFAR-10 Batch 2:  Loss:     0.2046 Validation Accuracy: 0.680800\n",
      "Epoch 38, CIFAR-10 Batch 3:  Loss:     0.2377 Validation Accuracy: 0.671000\n",
      "Epoch 38, CIFAR-10 Batch 4:  Loss:     0.2066 Validation Accuracy: 0.697400\n",
      "Epoch 38, CIFAR-10 Batch 5:  Loss:     0.1624 Validation Accuracy: 0.686600\n",
      "Epoch 39, CIFAR-10 Batch 1:  Loss:     0.2608 Validation Accuracy: 0.683200\n",
      "Epoch 39, CIFAR-10 Batch 2:  Loss:     0.2168 Validation Accuracy: 0.690200\n",
      "Epoch 39, CIFAR-10 Batch 3:  Loss:     0.1915 Validation Accuracy: 0.677600\n",
      "Epoch 39, CIFAR-10 Batch 4:  Loss:     0.2118 Validation Accuracy: 0.695600\n",
      "Epoch 39, CIFAR-10 Batch 5:  Loss:     0.1736 Validation Accuracy: 0.684000\n",
      "Epoch 40, CIFAR-10 Batch 1:  Loss:     0.2360 Validation Accuracy: 0.686000\n",
      "Epoch 40, CIFAR-10 Batch 2:  Loss:     0.2065 Validation Accuracy: 0.685000\n",
      "Epoch 40, CIFAR-10 Batch 3:  Loss:     0.2105 Validation Accuracy: 0.681200\n",
      "Epoch 40, CIFAR-10 Batch 4:  Loss:     0.1978 Validation Accuracy: 0.687800\n",
      "Epoch 40, CIFAR-10 Batch 5:  Loss:     0.1425 Validation Accuracy: 0.687200\n",
      "Epoch 41, CIFAR-10 Batch 1:  Loss:     0.2397 Validation Accuracy: 0.681200\n",
      "Epoch 41, CIFAR-10 Batch 2:  Loss:     0.1800 Validation Accuracy: 0.686000\n",
      "Epoch 41, CIFAR-10 Batch 3:  Loss:     0.1943 Validation Accuracy: 0.681400\n",
      "Epoch 41, CIFAR-10 Batch 4:  Loss:     0.2126 Validation Accuracy: 0.692600\n",
      "Epoch 41, CIFAR-10 Batch 5:  Loss:     0.1559 Validation Accuracy: 0.692600\n",
      "Epoch 42, CIFAR-10 Batch 1:  Loss:     0.2619 Validation Accuracy: 0.685200\n",
      "Epoch 42, CIFAR-10 Batch 2:  Loss:     0.2037 Validation Accuracy: 0.685600\n",
      "Epoch 42, CIFAR-10 Batch 3:  Loss:     0.1955 Validation Accuracy: 0.681600\n",
      "Epoch 42, CIFAR-10 Batch 4:  Loss:     0.2211 Validation Accuracy: 0.692600\n",
      "Epoch 42, CIFAR-10 Batch 5:  Loss:     0.1785 Validation Accuracy: 0.673200\n",
      "Epoch 43, CIFAR-10 Batch 1:  Loss:     0.2206 Validation Accuracy: 0.678200\n",
      "Epoch 43, CIFAR-10 Batch 2:  Loss:     0.1839 Validation Accuracy: 0.679600\n",
      "Epoch 43, CIFAR-10 Batch 3:  Loss:     0.1955 Validation Accuracy: 0.679000\n",
      "Epoch 43, CIFAR-10 Batch 4:  Loss:     0.2044 Validation Accuracy: 0.698400\n",
      "Epoch 43, CIFAR-10 Batch 5:  Loss:     0.1493 Validation Accuracy: 0.692600\n",
      "Epoch 44, CIFAR-10 Batch 1:  Loss:     0.2090 Validation Accuracy: 0.694000\n",
      "Epoch 44, CIFAR-10 Batch 2:  Loss:     0.1985 Validation Accuracy: 0.679200\n",
      "Epoch 44, CIFAR-10 Batch 3:  Loss:     0.1825 Validation Accuracy: 0.687800\n",
      "Epoch 44, CIFAR-10 Batch 4:  Loss:     0.1630 Validation Accuracy: 0.694800\n",
      "Epoch 44, CIFAR-10 Batch 5:  Loss:     0.1378 Validation Accuracy: 0.695600\n",
      "Epoch 45, CIFAR-10 Batch 1:  Loss:     0.2185 Validation Accuracy: 0.693200\n",
      "Epoch 45, CIFAR-10 Batch 2:  Loss:     0.2345 Validation Accuracy: 0.674600\n",
      "Epoch 45, CIFAR-10 Batch 3:  Loss:     0.1768 Validation Accuracy: 0.684800\n",
      "Epoch 45, CIFAR-10 Batch 4:  Loss:     0.1961 Validation Accuracy: 0.694200\n",
      "Epoch 45, CIFAR-10 Batch 5:  Loss:     0.1360 Validation Accuracy: 0.686600\n",
      "Epoch 46, CIFAR-10 Batch 1:  Loss:     0.2219 Validation Accuracy: 0.697000\n",
      "Epoch 46, CIFAR-10 Batch 2:  Loss:     0.2075 Validation Accuracy: 0.673800\n",
      "Epoch 46, CIFAR-10 Batch 3:  Loss:     0.1730 Validation Accuracy: 0.693800\n",
      "Epoch 46, CIFAR-10 Batch 4:  Loss:     0.1877 Validation Accuracy: 0.692600\n",
      "Epoch 46, CIFAR-10 Batch 5:  Loss:     0.1723 Validation Accuracy: 0.685800\n",
      "Epoch 47, CIFAR-10 Batch 1:  Loss:     0.2235 Validation Accuracy: 0.691600\n",
      "Epoch 47, CIFAR-10 Batch 2:  Loss:     0.1736 Validation Accuracy: 0.673600\n",
      "Epoch 47, CIFAR-10 Batch 3:  Loss:     0.1827 Validation Accuracy: 0.685600\n",
      "Epoch 47, CIFAR-10 Batch 4:  Loss:     0.1754 Validation Accuracy: 0.693200\n",
      "Epoch 47, CIFAR-10 Batch 5:  Loss:     0.1706 Validation Accuracy: 0.695200\n",
      "Epoch 48, CIFAR-10 Batch 1:  Loss:     0.2196 Validation Accuracy: 0.693800\n",
      "Epoch 48, CIFAR-10 Batch 2:  Loss:     0.1709 Validation Accuracy: 0.670400\n",
      "Epoch 48, CIFAR-10 Batch 3:  Loss:     0.1599 Validation Accuracy: 0.689600\n",
      "Epoch 48, CIFAR-10 Batch 4:  Loss:     0.1811 Validation Accuracy: 0.690000\n",
      "Epoch 48, CIFAR-10 Batch 5:  Loss:     0.1962 Validation Accuracy: 0.687800\n",
      "Epoch 49, CIFAR-10 Batch 1:  Loss:     0.1890 Validation Accuracy: 0.685000\n",
      "Epoch 49, CIFAR-10 Batch 2:  Loss:     0.1840 Validation Accuracy: 0.670400\n",
      "Epoch 49, CIFAR-10 Batch 3:  Loss:     0.1857 Validation Accuracy: 0.686600\n",
      "Epoch 49, CIFAR-10 Batch 4:  Loss:     0.1711 Validation Accuracy: 0.686000\n",
      "Epoch 49, CIFAR-10 Batch 5:  Loss:     0.1240 Validation Accuracy: 0.671000\n",
      "Epoch 50, CIFAR-10 Batch 1:  Loss:     0.1953 Validation Accuracy: 0.693600\n",
      "Epoch 50, CIFAR-10 Batch 2:  Loss:     0.1698 Validation Accuracy: 0.665600\n",
      "Epoch 50, CIFAR-10 Batch 3:  Loss:     0.1722 Validation Accuracy: 0.684800\n",
      "Epoch 50, CIFAR-10 Batch 4:  Loss:     0.1419 Validation Accuracy: 0.695200\n",
      "Epoch 50, CIFAR-10 Batch 5:  Loss:     0.1450 Validation Accuracy: 0.685800\n"
     ]
    }
   ],
   "source": [
    "\"\"\"\n",
    "DON'T MODIFY ANYTHING IN THIS CELL\n",
    "\"\"\"\n",
    "save_model_path = './image_classification'\n",
    "\n",
    "print('Training...')\n",
    "with tf.Session() as sess:\n",
    "    # Initializing the variables\n",
    "    sess.run(tf.global_variables_initializer())\n",
    "    \n",
    "    # Training cycle\n",
    "    for epoch in range(epochs):\n",
    "        # Loop over all batches\n",
    "        n_batches = 5\n",
    "        for batch_i in range(1, n_batches + 1):\n",
    "            for batch_features, batch_labels in helper.load_preprocess_training_batch(batch_i, batch_size):\n",
    "                train_neural_network(sess, optimizer, keep_probability, batch_features, batch_labels)\n",
    "            print('Epoch {:>2}, CIFAR-10 Batch {}:  '.format(epoch + 1, batch_i), end='')\n",
    "            print_stats(sess, batch_features, batch_labels, cost, accuracy)\n",
    "            \n",
    "    # Save Model\n",
    "    saver = tf.train.Saver()\n",
    "    save_path = saver.save(sess, save_model_path)"
   ]
  },
  {
   "cell_type": "markdown",
   "metadata": {},
   "source": [
    "# Checkpoint\n",
    "The model has been saved to disk.\n",
    "## Test Model\n",
    "Test your model against the test dataset.  This will be your final accuracy. You should have an accuracy greater than 50%. If you don't, keep tweaking the model architecture and parameters."
   ]
  },
  {
   "cell_type": "code",
   "execution_count": 19,
   "metadata": {
    "collapsed": false
   },
   "outputs": [
    {
     "name": "stdout",
     "output_type": "stream",
     "text": [
      "Testing Accuracy: 0.6748417721518988\n",
      "\n"
     ]
    },
    {
     "data": {
      "image/png": "[encoded data removed]",
      "text/plain": [
       "<matplotlib.figure.Figure at 0x7fd96337cc50>"
      ]
     },
     "metadata": {
      "image/png": {
       "height": 319,
       "width": 355
      }
     },
     "output_type": "display_data"
    }
   ],
   "source": [
    "\"\"\"\n",
    "DON'T MODIFY ANYTHING IN THIS CELL\n",
    "\"\"\"\n",
    "%matplotlib inline\n",
    "%config InlineBackend.figure_format = 'retina'\n",
    "\n",
    "import tensorflow as tf\n",
    "import pickle\n",
    "import helper\n",
    "import random\n",
    "\n",
    "# Set batch size if not already set\n",
    "try:\n",
    "    if batch_size:\n",
    "        pass\n",
    "except NameError:\n",
    "    batch_size = 64\n",
    "\n",
    "save_model_path = './image_classification'\n",
    "n_samples = 4\n",
    "top_n_predictions = 3\n",
    "\n",
    "def test_model():\n",
    "    \"\"\"\n",
    "    Test the saved model against the test dataset\n",
    "    \"\"\"\n",
    "\n",
    "    test_features, test_labels = pickle.load(open('preprocess_training.p', mode='rb'))\n",
    "    loaded_graph = tf.Graph()\n",
    "\n",
    "    with tf.Session(graph=loaded_graph) as sess:\n",
    "        # Load model\n",
    "        loader = tf.train.import_meta_graph(save_model_path + '.meta')\n",
    "        loader.restore(sess, save_model_path)\n",
    "\n",
    "        # Get Tensors from loaded model\n",
    "        loaded_x = loaded_graph.get_tensor_by_name('x:0')\n",
    "        loaded_y = loaded_graph.get_tensor_by_name('y:0')\n",
    "        loaded_keep_prob = loaded_graph.get_tensor_by_name('keep_prob:0')\n",
    "        loaded_logits = loaded_graph.get_tensor_by_name('logits:0')\n",
    "        loaded_acc = loaded_graph.get_tensor_by_name('accuracy:0')\n",
    "        \n",
    "        # Get accuracy in batches for memory limitations\n",
    "        test_batch_acc_total = 0\n",
    "        test_batch_count = 0\n",
    "        \n",
    "        for train_feature_batch, train_label_batch in helper.batch_features_labels(test_features, test_labels, batch_size):\n",
    "            test_batch_acc_total += sess.run(\n",
    "                loaded_acc,\n",
    "                feed_dict={loaded_x: train_feature_batch, loaded_y: train_label_batch, loaded_keep_prob: 1.0})\n",
    "            test_batch_count += 1\n",
    "\n",
    "        print('Testing Accuracy: {}\\n'.format(test_batch_acc_total/test_batch_count))\n",
    "\n",
    "        # Print Random Samples\n",
    "        random_test_features, random_test_labels = tuple(zip(*random.sample(list(zip(test_features, test_labels)), n_samples)))\n",
    "        random_test_predictions = sess.run(\n",
    "            tf.nn.top_k(tf.nn.softmax(loaded_logits), top_n_predictions),\n",
    "            feed_dict={loaded_x: random_test_features, loaded_y: random_test_labels, loaded_keep_prob: 1.0})\n",
    "        helper.display_image_predictions(random_test_features, random_test_labels, random_test_predictions)\n",
    "\n",
    "\n",
    "test_model()"
   ]
  },
  {
   "cell_type": "markdown",
   "metadata": {},
   "source": [
    "## Why 50-70% Accuracy?\n",
    "You might be wondering why you can't get an accuracy any higher. First things first, 50% isn't bad for a simple CNN.  Pure guessing would get you 10% accuracy. However, you might notice people are getting scores [well above 70%](http://rodrigob.github.io/are_we_there_yet/build/classification_datasets_results.html#43494641522d3130).  That's because we haven't taught you all there is to know about neural networks. We still need to cover a few more techniques.\n",
    "## Submitting This Project\n",
    "When submitting this project, make sure to run all the cells before saving the notebook.  Save the notebook file as \"dlnd_image_classification.ipynb\" and save it as a HTML file under \"File\" -> \"Download as\".  Include the \"helper.py\" and \"problem_unittests.py\" files in your submission."
   ]
  }
 ],
 "metadata": {
  "kernelspec": {
   "display_name": "Python [default]",
   "language": "python",
   "name": "python3"
  },
  "language_info": {
   "codemirror_mode": {
    "name": "ipython",
    "version": 3
   },
   "file_extension": ".py",
   "mimetype": "text/x-python",
   "name": "python",
   "nbconvert_exporter": "python",
   "pygments_lexer": "ipython3",
   "version": "3.5.2"
  }
 },
 "nbformat": 4,
 "nbformat_minor": 0
}
